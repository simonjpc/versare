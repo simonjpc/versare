{
 "cells": [
  {
   "cell_type": "code",
   "execution_count": 7,
   "metadata": {},
   "outputs": [
    {
     "name": "stderr",
     "output_type": "stream",
     "text": [
      "/Users/simon/Documents/venvs/versare/lib/python3.11/site-packages/tqdm/auto.py:21: TqdmWarning: IProgress not found. Please update jupyter and ipywidgets. See https://ipywidgets.readthedocs.io/en/stable/user_install.html\n",
      "  from .autonotebook import tqdm as notebook_tqdm\n"
     ]
    }
   ],
   "source": [
    "import fitz # PyMuPDF\n",
    "from llama_index.core import Document\n",
    "from llama_index.core import Settings\n",
    "from llama_index.embeddings.huggingface import HuggingFaceEmbedding\n",
    "from llama_index.core import Settings, VectorStoreIndex\n",
    "from llama_index.core.retrievers import VectorIndexRetriever\n",
    "from llama_index.core.query_engine import RetrieverQueryEngine\n",
    "from llama_index.core.postprocessor import SimilarityPostprocessor\n",
    "from llama_index.core.node_parser import SentenceSplitter\n",
    "from llama_index.embeddings.mistralai import MistralAIEmbedding"
   ]
  },
  {
   "cell_type": "code",
   "execution_count": 8,
   "metadata": {},
   "outputs": [],
   "source": [
    "# Function to read PDF content\n",
    "def parse_pdf(file_path):\n",
    "    pdf_document = fitz.open(file_path)\n",
    "    text = \"\"\n",
    "    \n",
    "    # Extract text from each page\n",
    "    for page_num in range(len(pdf_document)):\n",
    "        page = pdf_document.load_page(page_num)\n",
    "        text += page.get_text()\n",
    "\n",
    "    pdf_document.close()\n",
    "    return text\n"
   ]
  },
  {
   "cell_type": "code",
   "execution_count": 9,
   "metadata": {},
   "outputs": [],
   "source": [
    "# Path to the PDF file\n",
    "pdf_path = \"your_path\"  # Replace with your PDF file"
   ]
  },
  {
   "cell_type": "code",
   "execution_count": 10,
   "metadata": {},
   "outputs": [],
   "source": [
    "# Parse the PDF and get the text content\n",
    "pdf_text = parse_pdf(pdf_path)"
   ]
  },
  {
   "cell_type": "code",
   "execution_count": 11,
   "metadata": {},
   "outputs": [],
   "source": [
    "# Create a LlamaIndex Document\n",
    "document = Document(text=pdf_text)"
   ]
  },
  {
   "cell_type": "code",
   "execution_count": 4,
   "metadata": {},
   "outputs": [],
   "source": [
    "api_key = \"\"\n",
    "model_name = \"mistral-embed\"\n",
    "mistral_embed_model = MistralAIEmbedding(model_name=model_name, api_key=api_key)"
   ]
  },
  {
   "cell_type": "code",
   "execution_count": 26,
   "metadata": {},
   "outputs": [],
   "source": [
    "# Parameters that can be tuned later to test different models and different chunk sizes\n",
    "model_embedder_name = \"Alibaba-NLP/gte-large-en-v1.5\"\n",
    "# Settings.embed_model = mistral_embed_model\n",
    "Settings.embed_model = HuggingFaceEmbedding(model_name=model_embedder_name, trust_remote_code=True)\n",
    "# Settings.llm = None\n",
    "# Settings.chunk_size = 1024\n",
    "# Settings.chunk_overlap = 20\n",
    "\n",
    "Settings.text_splitter = SentenceSplitter(chunk_size=128, chunk_overlap=20)"
   ]
  },
  {
   "cell_type": "code",
   "execution_count": null,
   "metadata": {},
   "outputs": [],
   "source": [
    "index = VectorStoreIndex.from_documents(documents=[document])\n",
    "\n",
    "# set number of docs to retreive\n",
    "top_k = 3\n",
    "\n",
    "# configure retriever\n",
    "retriever = VectorIndexRetriever(\n",
    "    index=index,\n",
    "    similarity_top_k=top_k,\n",
    ")"
   ]
  },
  {
   "cell_type": "code",
   "execution_count": 21,
   "metadata": {},
   "outputs": [],
   "source": [
    "# assemble query engine\n",
    "query_engine = RetrieverQueryEngine(\n",
    "    retriever=retriever,\n",
    "    node_postprocessors=[SimilarityPostprocessor(similarity_cutoff=0.2)],\n",
    ")"
   ]
  },
  {
   "cell_type": "code",
   "execution_count": 22,
   "metadata": {},
   "outputs": [],
   "source": [
    "# query documents - testing\n",
    "query = \"\"\"quel est l'article qui traite les dispositions dérogatoires ?\"\"\"\n",
    "response = query_engine.query(query)"
   ]
  },
  {
   "cell_type": "code",
   "execution_count": 23,
   "metadata": {},
   "outputs": [
    {
     "name": "stdout",
     "output_type": "stream",
     "text": [
      "Context:\n",
      "Article 2 -  Possibilité de dérogation \n",
      " \n",
      "Il peut être dérogé à certaines dispositions du présent Cahier des clauses administratives générales \n",
      "moyennant que ces dispositions soient expressément mentionnées, à peine de nullité de la \n",
      "dérogation, dans le Cahier des clauses administratives particulières (CCAP). \n",
      " \n",
      " \n",
      " \n",
      "Section 2 – Intervenants dans les marchés de travaux \n",
      " \n",
      " \n",
      "Article 3 - Maître d'ouvrage \n",
      " \n",
      "3.1. Le maître d'ouvrage est la personne morale publique ou l'autorité contractante pour le compte de \n",
      "laquelle les travaux sont exécutés, à qui revient l'ouvrage, et qui, parmi tous les intervenants, a seul le \n",
      "pouvoir de décision. \n",
      " \n",
      "3.2.\n",
      "\n",
      "--------------------------------------------------\n",
      "\n",
      "sauf dérogation autorisée et mention expresse au \n",
      "Cahier des clauses administratives particulières (CCAP) ; \n",
      "9. les frais de bornage, de morcellement et de piquetage ; \n",
      "10. l’établissement, le fonctionnement et l’entretien des clôtures, des dispositifs de sécurité et des \n",
      "installations d’hygiène intéressant le chantier ; \n",
      "11. le gardiennage, l’éclairage et le nettoyage du chantier ; \n",
      "12. la signalisation extérieure ; \n",
      "13. les frais d’assurances prévues au marché ; \n",
      "14. les frais de garantie ou de caution prévus au marché ; \n",
      "15. les brevets, droits, taxes, redevances et charges diverses de toutes natures ; \n",
      "16. les frais généraux, de direction et de chantier ; \n",
      "17. les aléas et bénéfices ; \n",
      "18. la construction et l’entretien des moyens d’accès et des chemins de service et la construction,\n",
      "\n",
      "--------------------------------------------------\n",
      "\n",
      "Les dérogations éventuelles aux normes, si elles ne résultent pas des cahiers des clauses techniques \n",
      "générales, sont indiquées ou récapitulées comme telles dans le dernier article du Cahier des clauses \n",
      "administratives particulières (CCAP) au même titre que les dérogations aux cahiers des clauses \n",
      "techniques générales et au cahier des clauses administratives générales. \n",
      " \n",
      "59.2. Pour les matériaux, produits ou composants de construction d'origine étrangère, le maître \n",
      "d’œuvre peut accepter des différences de détail par rapport aux prescriptions des normes haïtiennes \n",
      "ou internationales; il précise alors les conditions de réception de ces matériaux, produits et \n",
      "composants. \n",
      " \n",
      "59.3. L'entrepreneur ne peut utiliser des matériaux, produits ou composants de construction d'une \n",
      "qualité différente de celle qui est fixée par le marché que si le maître d’œuvre l'y autorise par écrit.\n",
      "\n",
      "--------------------------------------------------\n",
      "\n",
      "\n"
     ]
    }
   ],
   "source": [
    "context = \"Context:\\n\"\n",
    "for i in range(top_k):\n",
    "    context = context + response.source_nodes[i].text + \"\\n\\n\"\n",
    "    context += \"-\" * 50 + \"\\n\\n\"\n",
    "\n",
    "print(context)"
   ]
  },
  {
   "cell_type": "code",
   "execution_count": null,
   "metadata": {},
   "outputs": [],
   "source": []
  }
 ],
 "metadata": {
  "kernelspec": {
   "display_name": "versare",
   "language": "python",
   "name": "python3"
  },
  "language_info": {
   "codemirror_mode": {
    "name": "ipython",
    "version": 3
   },
   "file_extension": ".py",
   "mimetype": "text/x-python",
   "name": "python",
   "nbconvert_exporter": "python",
   "pygments_lexer": "ipython3",
   "version": "3.11.6"
  }
 },
 "nbformat": 4,
 "nbformat_minor": 2
}
