{
 "cells": [
  {
   "cell_type": "code",
   "execution_count": 1,
   "metadata": {},
   "outputs": [
    {
     "name": "stderr",
     "output_type": "stream",
     "text": [
      "/Users/simon/Documents/venvs/versare/lib/python3.11/site-packages/tqdm/auto.py:21: TqdmWarning: IProgress not found. Please update jupyter and ipywidgets. See https://ipywidgets.readthedocs.io/en/stable/user_install.html\n",
      "  from .autonotebook import tqdm as notebook_tqdm\n"
     ]
    }
   ],
   "source": [
    "import torch\n",
    "from transformers import AutoModelForCausalLM, AutoTokenizer, BitsAndBytesConfig"
   ]
  },
  {
   "cell_type": "code",
   "execution_count": 2,
   "metadata": {},
   "outputs": [],
   "source": [
    "# Load pre-trained model and tokenizer\n",
    "model_name = \"meta-llama/Llama-3.2-1B-Instruct\"  # You can use other models like 'EleutherAI/gpt-neo-1.3B' or 'facebook/opt-1.3b'\n",
    "token_id = \"\""
   ]
  },
  {
   "cell_type": "code",
   "execution_count": 4,
   "metadata": {},
   "outputs": [],
   "source": [
    "tokenizer = AutoTokenizer.from_pretrained(model_name, token=token_id)"
   ]
  },
  {
   "cell_type": "code",
   "execution_count": 5,
   "metadata": {},
   "outputs": [],
   "source": [
    "model = AutoModelForCausalLM.from_pretrained(\n",
    "    model_name,\n",
    "    token=token_id,\n",
    "    device_map=\"auto\"                # Map model to available devices automatically\n",
    ")"
   ]
  },
  {
   "cell_type": "code",
   "execution_count": 26,
   "metadata": {},
   "outputs": [],
   "source": [
    "prompt = \"Rédige une clause de confidentialité courte et efficace\"\n",
    "messages = [\n",
    "    {\"role\": \"user\", \"content\": f\"Vous êtes un assistant du domaine du droit. Vous répondez en français par défault sauf si spécifié explicitement autrement dans le prompt.\\n\\n{prompt}\"},\n",
    "]\n"
   ]
  },
  {
   "cell_type": "code",
   "execution_count": 27,
   "metadata": {},
   "outputs": [],
   "source": [
    "encodeds = tokenizer.apply_chat_template(messages, return_tensors=\"pt\")"
   ]
  },
  {
   "cell_type": "code",
   "execution_count": 28,
   "metadata": {},
   "outputs": [],
   "source": [
    "model_inputs = encodeds.to(\"mps\")"
   ]
  },
  {
   "cell_type": "code",
   "execution_count": 29,
   "metadata": {},
   "outputs": [],
   "source": [
    "# Encode the input and generate text\n",
    "input_ids = tokenizer.encode(prompt, return_tensors='pt')"
   ]
  },
  {
   "cell_type": "code",
   "execution_count": 30,
   "metadata": {},
   "outputs": [],
   "source": [
    "generated_ids = model.generate(\n",
    "    model_inputs,\n",
    "    max_length=400,\n",
    "    do_sample=True,\n",
    "    pad_token_id=tokenizer.eos_token_id,\n",
    "    num_return_sequences=1,\n",
    "    temperature=0.005,\n",
    ")\n"
   ]
  },
  {
   "cell_type": "code",
   "execution_count": 31,
   "metadata": {},
   "outputs": [],
   "source": [
    "generated_text = tokenizer.decode(generated_ids[0], skip_special_tokens=True)"
   ]
  },
  {
   "cell_type": "code",
   "execution_count": 17,
   "metadata": {},
   "outputs": [
    {
     "name": "stdout",
     "output_type": "stream",
     "text": [
      " du domaine du droit. Vous répondez en français par défault sauf si spécifié explicitement autrement dans le prompt.\n",
      "\n",
      "Rédige une clause de confidentialité \n",
      "\n",
      "Voici une exemple de clause de confidentialité :\n",
      "\n",
      "\"La presente clause de confidentialité s'applique à tous les informations personnelles et non personnelles transmises entre les parties, y compris mais pas limitée à :\n",
      "\n",
      "* Les coordonnées de contact (nom, adresse e-mail, numéro de téléphone, etc.) ;\n",
      "* Les informations financières (montant, date, etc.) ;\n",
      "* Les données de navigation (date, heure, etc.) ;\n",
      "*\n"
     ]
    }
   ],
   "source": [
    "print(\" \".join(generated_text.split(\"assistant\")[1:]))"
   ]
  }
 ],
 "metadata": {
  "kernelspec": {
   "display_name": "versare",
   "language": "python",
   "name": "python3"
  },
  "language_info": {
   "codemirror_mode": {
    "name": "ipython",
    "version": 3
   },
   "file_extension": ".py",
   "mimetype": "text/x-python",
   "name": "python",
   "nbconvert_exporter": "python",
   "pygments_lexer": "ipython3",
   "version": "3.11.6"
  }
 },
 "nbformat": 4,
 "nbformat_minor": 2
}
